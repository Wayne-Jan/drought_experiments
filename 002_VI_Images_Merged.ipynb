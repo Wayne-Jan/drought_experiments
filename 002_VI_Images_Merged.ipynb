{
 "cells": [
  {
   "cell_type": "code",
   "execution_count": 1,
   "metadata": {},
   "outputs": [
    {
     "name": "stdout",
     "output_type": "stream",
     "text": [
      "------------------------------\n",
      "開始處理第 1 個資料夾，日期為:20240415\n",
      "新增此路徑: ./04_Result/Image/UC/ROI/20240415/VI/Merged\n",
      "20240415_NDVI 合併花費時間: 6.22 秒\n",
      "20240415_NDRE 合併花費時間: 8.74 秒\n"
     ]
    }
   ],
   "source": [
    "# 合併 VI 資料內的各個植生指標的 tif 檔\n",
    "import os\n",
    "import time\n",
    "from osgeo import gdal\n",
    "from utilis import *\n",
    "\n",
    "# 定義植生指標\n",
    "VIs = ['NDVI', 'NDRE','NDI','RGI','ExG']\n",
    "\n",
    "# 定義主要輸入文件夾\n",
    "main_input_folder = '04_Result/Image/UC/ROI'\n",
    "output_base_folder = '04_Result/Image/UC/ROI'\n",
    "\n",
    "# 記錄總開始時間\n",
    "total_start_time = time.time()\n",
    "\n",
    "# 遍歷 ROI 資料夾中的所有日期資料夾\n",
    "for i, date in enumerate(os.listdir(main_input_folder), 1):\n",
    "    input_folder = os.path.join(main_input_folder, date, 'VI')\n",
    "    output_folder = os.path.join(output_base_folder, date, 'VI', 'Merged')\n",
    "\n",
    "    print('------------------------------')\n",
    "    print(f\"開始處理第 {i} 個資料夾，日期為:{date}\")\n",
    "    dir_maker(output_folder)\n",
    "    iter_start_time = time.time()\n",
    "\n",
    "    # 合併每個指標的 TIF 文件並計算時間\n",
    "    for VI in VIs:\n",
    "        start_time = time.time()\n",
    "        merge_tif_files(VI, input_folder, output_folder, date)\n",
    "        end_time = time.time()\n",
    "        \n",
    "        print(f'{date}_{VI} 合併花費時間: {end_time - start_time:.2f} 秒')\n",
    "\n",
    "    iter_end_time = time.time()\n",
    "    print(f\"第 {i} 個資料夾處理結束，合併花費時間: {iter_end_time - iter_start_time:.2f} 秒\")\n",
    "    print('------------------------------')\n",
    "    print()\n",
    "\n",
    "# 計算並顯示總時間\n",
    "total_end_time = time.time()\n",
    "print(f'合併完成，共花費時間: {total_end_time - total_start_time:.2f} 秒')"
   ]
  }
 ],
 "metadata": {
  "kernelspec": {
   "display_name": "pytorch",
   "language": "python",
   "name": "python3"
  },
  "language_info": {
   "codemirror_mode": {
    "name": "ipython",
    "version": 3
   },
   "file_extension": ".py",
   "mimetype": "text/x-python",
   "name": "python",
   "nbconvert_exporter": "python",
   "pygments_lexer": "ipython3",
   "version": "3.11.9"
  }
 },
 "nbformat": 4,
 "nbformat_minor": 2
}
